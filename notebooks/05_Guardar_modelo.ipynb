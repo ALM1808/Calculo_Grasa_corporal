{
 "cells": [
  {
   "cell_type": "code",
   "execution_count": 4,
   "id": "af2b8843",
   "metadata": {},
   "outputs": [
    {
     "name": "stdout",
     "output_type": "stream",
     "text": [
      "✅ Modelo guardado en 'models/random_forest_model.pkl'\n"
     ]
    }
   ],
   "source": [
    "# 🔹 1. Importaciones necesarias\n",
    "# ===============================\n",
    "import pandas as pd\n",
    "import numpy as np\n",
    "import os\n",
    "import joblib\n",
    "\n",
    "from sklearn.ensemble import RandomForestRegressor\n",
    "from sklearn.model_selection import train_test_split\n",
    "\n",
    "# ===============================\n",
    "# 🔹 2. Cargar datos preprocesados\n",
    "# ===============================\n",
    "df = pd.read_csv('data/processed/preprocessed_data.csv')\n",
    "\n",
    "target_col = 'Fat_Percentage'\n",
    "X = df.drop(columns=[target_col])\n",
    "y = df[target_col]\n",
    "\n",
    "X_train, X_test, y_train, y_test = train_test_split(X, y, test_size=0.2, random_state=42)\n",
    "\n",
    "# ===============================\n",
    "# 🔹 3. Entrenar modelo final\n",
    "# ===============================\n",
    "# Entrenamos de nuevo sobre todos los datos de entrenamiento (opcional)\n",
    "rf_model = RandomForestRegressor(random_state=42)\n",
    "rf_model.fit(X_train, y_train)\n",
    "\n",
    "# ===============================\n",
    "# 🔹 4. Guardar el modelo entrenado\n",
    "# ===============================\n",
    "# Crear carpeta de modelos si no existe\n",
    "os.makedirs(\"models\", exist_ok=True)\n",
    "\n",
    "# Guardar modelo\n",
    "joblib.dump(rf_model, \"models/random_forest_model.pkl\")\n",
    "print(\"✅ Modelo guardado en 'models/random_forest_model.pkl'\")"
   ]
  }
 ],
 "metadata": {
  "kernelspec": {
   "display_name": "grasa-corporal-YMsIZIwf-py3.12",
   "language": "python",
   "name": "python3"
  },
  "language_info": {
   "codemirror_mode": {
    "name": "ipython",
    "version": 3
   },
   "file_extension": ".py",
   "mimetype": "text/x-python",
   "name": "python",
   "nbconvert_exporter": "python",
   "pygments_lexer": "ipython3",
   "version": "3.12.4"
  }
 },
 "nbformat": 4,
 "nbformat_minor": 5
}
