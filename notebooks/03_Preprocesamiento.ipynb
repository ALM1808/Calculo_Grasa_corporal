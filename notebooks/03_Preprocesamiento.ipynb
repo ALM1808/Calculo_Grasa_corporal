{
 "cells": [
  {
   "cell_type": "code",
   "execution_count": 5,
   "id": "ca8e763b",
   "metadata": {},
   "outputs": [
    {
     "name": "stdout",
     "output_type": "stream",
     "text": [
      "✅ Datos preprocesados guardados en: c:\\Users\\alozano\\OneDrive\\Documentos\\Workspace\\Grasa_corporal\\data\\processed\\preprocessed_data.csv\n"
     ]
    }
   ],
   "source": [
    "# ===============================\n",
    "# 🔹 1. Importaciones\n",
    "# ===============================\n",
    "import pandas as pd\n",
    "import numpy as np\n",
    "from pathlib import Path\n",
    "from sklearn.preprocessing import StandardScaler, LabelEncoder\n",
    "\n",
    "# ===============================\n",
    "# 🔹 2. Cargar datos intermedios\n",
    "# ===============================\n",
    "# Detectar la raíz del proyecto desde el notebook\n",
    "ROOT = Path.cwd().parent\n",
    "INTERIM_PATH = ROOT / \"data\" / \"interim\" / \"feature_engineered_data.csv\"\n",
    "\n",
    "if not INTERIM_PATH.exists():\n",
    "    raise FileNotFoundError(f\"No se encuentra el archivo: {INTERIM_PATH}\")\n",
    "\n",
    "df = pd.read_csv(INTERIM_PATH)\n",
    "\n",
    "# ===============================\n",
    "# 🔹 3. Preprocesamiento\n",
    "# ===============================\n",
    "\n",
    "# Escalar variables numéricas\n",
    "numeric_columns = df.select_dtypes(include=[np.number]).columns\n",
    "scaler = StandardScaler()\n",
    "df[numeric_columns] = scaler.fit_transform(df[numeric_columns])\n",
    "\n",
    "# Codificar variables categóricas\n",
    "categorical_columns = df.select_dtypes(include=[\"object\"]).columns\n",
    "label_encoders = {}\n",
    "\n",
    "for col in categorical_columns:\n",
    "    le = LabelEncoder()\n",
    "    df[col] = le.fit_transform(df[col])\n",
    "    label_encoders[col] = le\n",
    "\n",
    "# ===============================\n",
    "# 🔹 4. Guardar datos preprocesados\n",
    "# ===============================\n",
    "PROCESSED_PATH = ROOT / \"data\" / \"processed\"\n",
    "PROCESSED_PATH.mkdir(parents=True, exist_ok=True)\n",
    "\n",
    "output_file = PROCESSED_PATH / \"preprocessed_data.csv\"\n",
    "df.to_csv(output_file, index=False)\n",
    "\n",
    "print(f\"✅ Datos preprocesados guardados en: {output_file}\")\n",
    "\n"
   ]
  }
 ],
 "metadata": {
  "kernelspec": {
   "display_name": "grasa-corporal-YMsIZIwf-py3.12",
   "language": "python",
   "name": "python3"
  },
  "language_info": {
   "codemirror_mode": {
    "name": "ipython",
    "version": 3
   },
   "file_extension": ".py",
   "mimetype": "text/x-python",
   "name": "python",
   "nbconvert_exporter": "python",
   "pygments_lexer": "ipython3",
   "version": "3.12.4"
  }
 },
 "nbformat": 4,
 "nbformat_minor": 5
}
