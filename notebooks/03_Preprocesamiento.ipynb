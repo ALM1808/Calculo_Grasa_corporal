{
 "cells": [
  {
   "cell_type": "code",
   "execution_count": 4,
   "id": "ca8e763b",
   "metadata": {},
   "outputs": [
    {
     "name": "stdout",
     "output_type": "stream",
     "text": [
      "✅ Datos preprocesados guardados en: c:\\Users\\alozano\\OneDrive\\Documentos\\Workspace\\Grasa_corporal\\data\\processed\\preprocessed_data.csv\n"
     ]
    }
   ],
   "source": [
    "# ===============================\n",
    "# 🔹 03-preprocesamiento\n",
    "# ===============================\n",
    "import sys\n",
    "from pathlib import Path\n",
    "\n",
    "# Sube al root del proyecto y añade 'src' al PYTHONPATH\n",
    "ROOT = Path.cwd().parent\n",
    "sys.path.append(str(ROOT / \"src\"))\n",
    "\n",
    "import pandas as pd\n",
    "from features.preprocessing import create_preprocessor\n",
    "\n",
    "# ===============================\n",
    "# 🔹 2. Cargar datos intermedios\n",
    "# ===============================\n",
    "INPUT_PATH = ROOT / \"data\" / \"interim\" / \"feature_engineered_data.csv\"\n",
    "\n",
    "if not INPUT_PATH.exists():\n",
    "    raise FileNotFoundError(f\"❌ No se encuentra el archivo: {INPUT_PATH}\")\n",
    "\n",
    "df = pd.read_csv(INPUT_PATH)\n",
    "\n",
    "# ===============================\n",
    "# 🔹 3. Aplicar preprocesador\n",
    "# ===============================\n",
    "preprocessor = create_preprocessor(df)\n",
    "df_processed = preprocessor.fit_transform(df)\n",
    "\n",
    "# Recuperar nombres de columnas (numéricas + OHE categóricas)\n",
    "num_features = df.select_dtypes(include=\"number\").columns.tolist()\n",
    "cat_features = df.select_dtypes(include=[\"object\", \"category\"]).columns.tolist()\n",
    "ohe_columns = preprocessor.named_transformers_[\"cat\"].get_feature_names_out(cat_features)\n",
    "import numpy as np\n",
    "columns = np.concatenate([num_features, ohe_columns])\n",
    "df_processed = pd.DataFrame(df_processed, columns=columns)\n",
    "\n",
    "# ===============================\n",
    "# 🔹 4. Guardar resultado\n",
    "# ===============================\n",
    "OUTPUT_PATH = ROOT / \"data\" / \"processed\" / \"preprocessed_data.csv\"\n",
    "OUTPUT_PATH.parent.mkdir(parents=True, exist_ok=True)\n",
    "df_processed.to_csv(OUTPUT_PATH, index=False)\n",
    "\n",
    "print(f\"✅ Datos preprocesados guardados en: {OUTPUT_PATH}\")\n",
    "\n"
   ]
  }
 ],
 "metadata": {
  "kernelspec": {
   "display_name": "grasa-corporal-YMsIZIwf-py3.12",
   "language": "python",
   "name": "python3"
  },
  "language_info": {
   "codemirror_mode": {
    "name": "ipython",
    "version": 3
   },
   "file_extension": ".py",
   "mimetype": "text/x-python",
   "name": "python",
   "nbconvert_exporter": "python",
   "pygments_lexer": "ipython3",
   "version": "3.12.4"
  }
 },
 "nbformat": 4,
 "nbformat_minor": 5
}
