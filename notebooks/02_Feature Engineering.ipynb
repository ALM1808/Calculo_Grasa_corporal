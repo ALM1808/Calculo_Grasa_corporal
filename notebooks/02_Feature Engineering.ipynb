{
 "cells": [
  {
   "cell_type": "code",
   "execution_count": 3,
   "id": "835db94b",
   "metadata": {},
   "outputs": [
    {
     "name": "stdout",
     "output_type": "stream",
     "text": [
      "✅ Datos intermedios guardados\n",
      "📦 Feature Store: c:\\Users\\alozano\\OneDrive\\Documentos\\Workspace\\Grasa_corporal\\feature_store\\user_fat_percentage\\v1\\features.csv\n",
      "✅ Feature store actualizado en: c:\\Users\\alozano\\OneDrive\\Documentos\\Workspace\\Grasa_corporal\\feature_store\\user_fat_percentage\\v1_2025-06-08\\features.csv\n"
     ]
    }
   ],
   "source": [
    "import pandas as pd\n",
    "import numpy as np\n",
    "import os\n",
    "from pathlib import Path\n",
    "from datetime import datetime\n",
    "\n",
    "# Detectar la raíz del proyecto (donde está pyproject.toml)\n",
    "ROOT_DIR = Path.cwd()\n",
    "while not (ROOT_DIR / \"pyproject.toml\").exists() and ROOT_DIR != ROOT_DIR.parent:\n",
    "    ROOT_DIR = ROOT_DIR.parent\n",
    "\n",
    "# Cargar el archivo (ruta absoluta)\n",
    "input_path = ROOT_DIR / \"data\" / \"raw\" / \"gym_members_exercise_tracking.csv\"\n",
    "\n",
    "if not os.path.exists(input_path):\n",
    "    raise FileNotFoundError(f\"El archivo no fue encontrado en la ruta: {input_path}\")\n",
    "\n",
    "df = pd.read_csv(input_path)\n",
    "\n",
    "# Crear nuevas características\n",
    "df['BMI'] = df['Weight (kg)'] / (df['Height (m)'] / 100) ** 2\n",
    "df['Log_Age'] = np.log(df['Age'])\n",
    "\n",
    "# Guardar en data/interim\n",
    "INTERIM_DIR = ROOT_DIR / \"data\" / \"interim\"\n",
    "INTERIM_DIR.mkdir(parents=True, exist_ok=True)\n",
    "df.to_csv(INTERIM_DIR / \"feature_engineered_data.csv\", index=False)\n",
    "\n",
    "# Guardar también en el Feature Store local\n",
    "FEATURE_STORE_DIR = ROOT_DIR / \"feature_store\" / \"user_fat_percentage\" / \"v1\"\n",
    "FEATURE_STORE_DIR.mkdir(parents=True, exist_ok=True)\n",
    "df.to_csv(FEATURE_STORE_DIR / \"features.csv\", index=False)\n",
    "\n",
    "print(\"✅ Datos intermedios guardados\")\n",
    "print(f\"📦 Feature Store: {FEATURE_STORE_DIR / 'features.csv'}\")\n",
    "\n",
    "# Función para guardar versión con fecha\n",
    "def save_versioned_feature_store(df: pd.DataFrame, entity: str = \"user_fat_percentage\"):\n",
    "    \"\"\"\n",
    "    Guarda una versión nueva de features.csv con marca de fecha, manteniendo versiones anteriores.\n",
    "    \"\"\"\n",
    "    today = datetime.today().strftime(\"%Y-%m-%d\")\n",
    "    version_name = f\"v1_{today}\"\n",
    "    path = ROOT_DIR / \"feature_store\" / entity / version_name\n",
    "    path.mkdir(parents=True, exist_ok=True)\n",
    "\n",
    "    output_path = path / \"features.csv\"\n",
    "    df.to_csv(output_path, index=False)\n",
    "    print(f\"✅ Feature store actualizado en: {output_path}\")\n",
    "\n",
    "# Guardar versión con fecha\n",
    "save_versioned_feature_store(df)"
   ]
  }
 ],
 "metadata": {
  "kernelspec": {
   "display_name": "grasa-corporal-py3.12",
   "language": "python",
   "name": "python3"
  },
  "language_info": {
   "codemirror_mode": {
    "name": "ipython",
    "version": 3
   },
   "file_extension": ".py",
   "mimetype": "text/x-python",
   "name": "python",
   "nbconvert_exporter": "python",
   "pygments_lexer": "ipython3",
   "version": "3.12.4"
  }
 },
 "nbformat": 4,
 "nbformat_minor": 5
}
