{
 "cells": [
  {
   "cell_type": "code",
   "execution_count": 1,
   "id": "835db94b",
   "metadata": {},
   "outputs": [],
   "source": [
    "import pandas as pd\n",
    "import numpy as np\n",
    "import os\n",
    "\n",
    "# Cargar el archivo (ruta absoluta)\n",
    "input_path = 'C:/Users/alozano/OneDrive/Documentos/Workspace/Grasa_corporal/data/raw/gym_members_exercise_tracking.csv'\n",
    "\n",
    "if not os.path.exists(input_path):\n",
    "    raise FileNotFoundError(f\"El archivo no fue encontrado en la ruta: {input_path}\")\n",
    "\n",
    "df = pd.read_csv(input_path)\n",
    "\n",
    "# Crear nuevas características\n",
    "df['BMI'] = df['Weight (kg)'] / (df['Height (m)'] / 100) ** 2\n",
    "df['Log_Age'] = np.log(df['Age'])\n",
    "\n",
    "# Guardar datos intermedios\n",
    "os.makedirs('data/interim', exist_ok=True)\n",
    "df.to_csv('data/interim/feature_engineered_data.csv', index=False)\n"
   ]
  }
 ],
 "metadata": {
  "kernelspec": {
   "display_name": "grasa-corporal-YMsIZIwf-py3.12",
   "language": "python",
   "name": "python3"
  },
  "language_info": {
   "codemirror_mode": {
    "name": "ipython",
    "version": 3
   },
   "file_extension": ".py",
   "mimetype": "text/x-python",
   "name": "python",
   "nbconvert_exporter": "python",
   "pygments_lexer": "ipython3",
   "version": "3.12.4"
  }
 },
 "nbformat": 4,
 "nbformat_minor": 5
}
