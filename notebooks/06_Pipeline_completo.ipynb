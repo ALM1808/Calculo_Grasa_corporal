{
 "cells": [
  {
   "cell_type": "code",
   "execution_count": 1,
   "id": "ffb485c9",
   "metadata": {},
   "outputs": [
    {
     "name": "stdout",
     "output_type": "stream",
     "text": [
      "Numéricas: ['Age', 'Weight (kg)', 'Height (m)', 'Max_BPM', 'Avg_BPM', 'Resting_BPM', 'Session_Duration (hours)', 'Calories_Burned', 'Water_Intake (liters)', 'Workout_Frequency (days/week)', 'Experience_Level', 'BMI', 'Log_Age']\n",
      "Categóricas: ['Gender', 'Workout_Type']\n",
      "✅ Pipeline guardado en 'models/rf_pipeline.pkl'\n"
     ]
    }
   ],
   "source": [
    "# Entrenamiento y guardado del pipeline completo\n",
    "\n",
    "# ===============================\n",
    "# 🔹 1. Importaciones\n",
    "# ===============================\n",
    "import pandas as pd\n",
    "import numpy as np\n",
    "import os\n",
    "import joblib\n",
    "\n",
    "from sklearn.model_selection import train_test_split\n",
    "from sklearn.pipeline import Pipeline\n",
    "from sklearn.compose import ColumnTransformer\n",
    "from sklearn.preprocessing import StandardScaler, OneHotEncoder\n",
    "from sklearn.ensemble import RandomForestRegressor\n",
    "\n",
    "# ===============================\n",
    "# 🔹 2. Cargar datos preprocesados\n",
    "# (en este ejemplo usamos el CSV con features originales, no los estandarizados)\n",
    "# ===============================\n",
    "df = pd.read_csv(\"data/interim/feature_engineered_data.csv\")  # <- NO usar el ya escalado\n",
    "\n",
    "target_col = \"Fat_Percentage\"\n",
    "if target_col not in df.columns:\n",
    "    raise ValueError(f\"No se encontró la columna objetivo '{target_col}'.\")\n",
    "\n",
    "X = df.drop(columns=[target_col])\n",
    "y = df[target_col]\n",
    "\n",
    "# ===============================\n",
    "# 🔹 3. Detectar columnas numéricas y categóricas\n",
    "# ===============================\n",
    "num_features = X.select_dtypes(include=[np.number]).columns.tolist()\n",
    "cat_features = X.select_dtypes(include=[\"object\", \"category\"]).columns.tolist()\n",
    "\n",
    "print(\"Numéricas:\", num_features)\n",
    "print(\"Categóricas:\", cat_features)\n",
    "\n",
    "# ===============================\n",
    "# 🔹 4. Construir el preprocesador\n",
    "# ===============================\n",
    "preprocessor = ColumnTransformer(transformers=[\n",
    "    (\"num\", StandardScaler(), num_features),\n",
    "    (\"cat\", OneHotEncoder(handle_unknown=\"ignore\"), cat_features)\n",
    "])\n",
    "\n",
    "# ===============================\n",
    "# 🔹 5. Construir pipeline completo\n",
    "# ===============================\n",
    "pipeline = Pipeline(steps=[\n",
    "    (\"preprocessing\", preprocessor),\n",
    "    (\"model\", RandomForestRegressor(random_state=42))\n",
    "])\n",
    "\n",
    "# ===============================\n",
    "# 🔹 6. Split de datos y entrenamiento\n",
    "# ===============================\n",
    "X_train, X_test, y_train, y_test = train_test_split(X, y, test_size=0.2, random_state=42)\n",
    "pipeline.fit(X_train, y_train)\n",
    "\n",
    "# ===============================\n",
    "# 🔹 7. Guardar el pipeline entrenado\n",
    "# ===============================\n",
    "os.makedirs(\"models\", exist_ok=True)\n",
    "joblib.dump(pipeline, \"models/rf_pipeline.pkl\")\n",
    "print(\"✅ Pipeline guardado en 'models/rf_pipeline.pkl'\")"
   ]
  }
 ],
 "metadata": {
  "kernelspec": {
   "display_name": "grasa-corporal-YMsIZIwf-py3.12",
   "language": "python",
   "name": "python3"
  },
  "language_info": {
   "codemirror_mode": {
    "name": "ipython",
    "version": 3
   },
   "file_extension": ".py",
   "mimetype": "text/x-python",
   "name": "python",
   "nbconvert_exporter": "python",
   "pygments_lexer": "ipython3",
   "version": "3.12.4"
  }
 },
 "nbformat": 4,
 "nbformat_minor": 5
}
